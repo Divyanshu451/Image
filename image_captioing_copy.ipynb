{
  "nbformat": 4,
  "nbformat_minor": 0,
  "metadata": {
    "colab": {
      "name": "image_captioing_copy.ipynb",
      "provenance": [],
      "collapsed_sections": [],
      "authorship_tag": "ABX9TyOjDVIILDo1Pr6QvGWwItdF",
      "include_colab_link": true
    },
    "kernelspec": {
      "name": "python3",
      "display_name": "Python 3"
    }
  },
  "cells": [
    {
      "cell_type": "markdown",
      "metadata": {
        "id": "view-in-github",
        "colab_type": "text"
      },
      "source": [
        "<a href=\"https://colab.research.google.com/github/Divyanshu451/Image/blob/master/image_captioing_copy.ipynb\" target=\"_parent\"><img src=\"https://colab.research.google.com/assets/colab-badge.svg\" alt=\"Open In Colab\"/></a>"
      ]
    },
    {
      "cell_type": "code",
      "metadata": {
        "id": "isHf_A9Ou4Qj",
        "colab_type": "code",
        "colab": {
          "base_uri": "https://localhost:8080/",
          "height": 33
        },
        "outputId": "0b91b480-9ebc-414b-d4ec-2ad03db8de57"
      },
      "source": [
        "from os import listdir\n",
        "from pickle import dump\n",
        "from keras.applications.vgg16 import VGG16\n",
        "from keras.preprocessing.image import load_img\n",
        "from keras.preprocessing.image import img_to_array\n",
        "from keras.applications.vgg16 import preprocess_input\n",
        "from keras.models import Model"
      ],
      "execution_count": null,
      "outputs": [
        {
          "output_type": "stream",
          "text": [
            "Using TensorFlow backend.\n"
          ],
          "name": "stderr"
        }
      ]
    },
    {
      "cell_type": "code",
      "metadata": {
        "id": "ddI0h2N9eOVs",
        "colab_type": "code",
        "colab": {}
      },
      "source": [
        "from google.colab import drive\n",
        "drive.mount('/content/drive')"
      ],
      "execution_count": null,
      "outputs": []
    },
    {
      "cell_type": "code",
      "metadata": {
        "id": "qkqPTqLWvLuc",
        "colab_type": "code",
        "colab": {}
      },
      "source": [
        "def extract_features(directory):\n",
        "  model=VGG16()\n",
        "  model.layers.pop()\n",
        "  model=Model(inputs=model.inputs, outputs=model.layers[-1].output)\n",
        "  print(model.summary())\n",
        "  features=dict()\n",
        "  for name in listdir(directory):\n",
        "    filename=directory + '/' + name\n",
        "    image=load_img(filename, target_size=(224,224))\n",
        "    image=img_to_array(image)\n",
        "    image=image.reshape((1,image.shape[0], image.shape[1], image.shape[2]))\n",
        "    image=preprocess_input(image)\n",
        "    feature= model.predict(image, verbose=0)\n",
        "    image_id=name.split('.')[0]\n",
        "    features[image_id]= feature\n",
        "    print('>%s' % name)\n",
        "  return features\n"
      ],
      "execution_count": null,
      "outputs": []
    },
    {
      "cell_type": "code",
      "metadata": {
        "id": "BzFUT3w1vMGa",
        "colab_type": "code",
        "colab": {}
      },
      "source": [
        "directory='/content/drive/My Drive/Flickr_Data/Flicker8k_Dataset'"
      ],
      "execution_count": null,
      "outputs": []
    },
    {
      "cell_type": "code",
      "metadata": {
        "id": "fBAIve2NvXc9",
        "colab_type": "code",
        "colab": {}
      },
      "source": [
        "features=extract_features(directory)\n",
        "print('Extracted Features: %d' % len(features))\n",
        "dump(features, open('/content/drive/My Drive/Flickr_Data/features2.pkl','wb'))"
      ],
      "execution_count": null,
      "outputs": []
    },
    {
      "cell_type": "code",
      "metadata": {
        "id": "iQ9KqoCuvXnn",
        "colab_type": "code",
        "colab": {}
      },
      "source": [
        "import string\n",
        "def load_doc(filename):\n",
        "  file=open(filename,'r')\n",
        "  text=file.read()\n",
        "  file.close()\n",
        "  return text\n",
        "\n",
        "def load_descriptions(doc):\n",
        "  mapping=dict()\n",
        "  for line in doc.split('\\n'):\n",
        "    tokens=line.split()\n",
        "    if len(line) <2:\n",
        "      continue\n",
        "    image_id,image_desc = tokens[0], tokens[1:]\n",
        "    image_id=image_id.split('.')[0]\n",
        "    image_desc=' '.join(image_desc)\n",
        "\n",
        "    if image_id not in mapping:\n",
        "      mapping[image_id]= list()\n",
        "    mapping[image_id].append(image_desc)\n",
        "\n",
        "  return mapping\n",
        "\n",
        "\n",
        "def clean_descriptions(descriptions):\n",
        "  table=str.maketrans('','',string.punctuation)\n",
        "  for key, desc_list in descriptions.items():\n",
        "    for i in range(len(desc_list)):\n",
        "      desc=desc_list[i]\n",
        "\n",
        "      desc=desc.split()\n",
        "      desc=[word.lower() for word in desc]\n",
        "      desc=[w.translate(table) for w in desc]\n",
        "      desc=[word for word in desc if len(word)>1]\n",
        "      desc=[word for word in desc if word.isalpha()]\n",
        "      desc_list[i]= ' '.join(desc)\n",
        "\n",
        "def to_vocabulary(descriptions):\n",
        "  all_desc=set()\n",
        "  for key in descriptions.keys():\n",
        "    [all_desc.update(d.split()) for d in descriptions [key ]]\n",
        "  return all_desc\n",
        "\n",
        "def save_descriptions(descriptions, filename):\n",
        "  lines=list()\n",
        "  for key ,desc_list in descriptions.items():\n",
        "    for desc in desc_list:\n",
        "      lines.append(key+ ' '+desc)\n",
        "  data= '\\n'.join(lines)\n",
        "  file=open(filename,'w')\n",
        "  file.write(data)\n",
        "  file.close()\n",
        "\n",
        "filename='/content/drive/My Drive/Flickr_Data/Flickr_TextData/Flickr8k.token.txt'\n",
        "doc=load_doc(filename)\n",
        "descriptions=load_descriptions(doc)\n",
        "print('Loaded: %d ' % len(descriptions))\n",
        "\n",
        "clean_descriptions(descriptions)\n",
        "\n",
        "vocabulary= to_vocabulary(descriptions)\n",
        "print('vocabualry size: %d ' % len(vocabulary))\n",
        "\n",
        "save_descriptions(descriptions,'/content/drive/My Drive/Flickr_Data/descriptions.txt' )\n",
        "\n"
      ],
      "execution_count": null,
      "outputs": []
    },
    {
      "cell_type": "code",
      "metadata": {
        "id": "J7AAUjzFvXxE",
        "colab_type": "code",
        "colab": {}
      },
      "source": [
        "from pickle import load\n",
        "def load_doc(filename):\n",
        "  file=open(filename,'r')\n",
        "  text=file.read()\n",
        "  file.close()\n",
        "  return text\n",
        "\n",
        "def load_set(filename):\n",
        "  doc=load_doc(filename)\n",
        "  dataset=list()\n",
        "  for line in doc.split('\\n'):\n",
        "    if len(line)<1:\n",
        "      continue\n",
        "    identifier = line.split('.')[0]\n",
        "    dataset.append(identifier)\n",
        "  return set(dataset)\n",
        "\n",
        "\n",
        "def load_clean_descriptions(filename, dataset):\n",
        "  doc=load_doc(filename)\n",
        "  descriptions=dict()\n",
        "  for line in doc.split('\\n'):\n",
        "    tokens=line.split()\n",
        "    image_id, image_desc=tokens[0], tokens[1:]\n",
        "    if image_id in dataset:\n",
        "      if image_id not in descriptions:\n",
        "        descriptions[image_id]=list()\n",
        "      desc='starseq ' + ' '.join(image_desc) +' endseq'\n",
        "      descriptions[image_id].append(desc)\n",
        "  return descriptions\n",
        "\n",
        "def load_photo_features(filename, dataset):\n",
        "  all_features= load(open(filename, 'rb'))\n",
        "  features={k: all_features[k] for k in dataset}\n",
        "  return features\n",
        "\n",
        "\n",
        "\n"
      ],
      "execution_count": null,
      "outputs": []
    },
    {
      "cell_type": "code",
      "metadata": {
        "id": "5J-sNXdDvYK7",
        "colab_type": "code",
        "colab": {}
      },
      "source": [
        "\n",
        "filename='/content/drive/My Drive/Flickr_Data/Flickr_TextData/Flickr_8k.trainImages.txt'\n",
        "train=load_set(filename)\n",
        "print('Dataset: %d' % len(train))\n",
        "train_descriptions=load_clean_descriptions('/content/drive/My Drive/Flickr_Data/descriptions.txt',train)\n",
        "print('Descriptions: train=%d' % len(train_descriptions))"
      ],
      "execution_count": null,
      "outputs": []
    },
    {
      "cell_type": "code",
      "metadata": {
        "id": "ydWDeaE7vpcG",
        "colab_type": "code",
        "colab": {}
      },
      "source": [
        "train_features=load_photo_features('/content/drive/My Drive/Flickr_Data/features.pkl',train)\n",
        "print('photos train=%d' % len(train_features))"
      ],
      "execution_count": null,
      "outputs": []
    },
    {
      "cell_type": "code",
      "metadata": {
        "id": "Cg9YaOcuvpqZ",
        "colab_type": "code",
        "colab": {}
      },
      "source": [
        "from keras.preprocessing.text import Tokenizer\n",
        "def to_lines(descriptions):\n",
        "  all_desc=list()\n",
        "  for key in descriptions.keys():\n",
        "    [all_desc.append(d) for d in descriptions[key]]\n",
        "  return all_desc\n",
        "\n",
        "def create_tokenizer(descriptions):\n",
        "  lines= to_lines(descriptions)\n",
        "  tokenizer=Tokenizer()\n",
        "  tokenizer.fit_on_texts(lines)\n",
        "  return tokenizer\n",
        "\n",
        "tokenizer=create_tokenizer(train_descriptions)\n",
        "vocab_size=len(tokenizer.word_index)+1\n",
        "print('vocabulary size: %d' % vocab_size)\n",
        "\n",
        "def max_length(descriptions):\n",
        "  lines=to_lines(descriptions)\n",
        "  return max(len(d.split()) for d in lines)\n",
        "\n",
        "def create_sequences(tokenizer, max_length, desc_list, photo):\n",
        "  X1,X2, y=list(),list(),list()\n",
        "  for desc in desc_list:\n",
        "    seq=tokenizer.texts_to_sequences([desc])[0]\n",
        "    for i in range (1,len(seq)):\n",
        "        in_seq, out_seq= seq[:i], seq[i]\n",
        "\n",
        "        in_seq=pad_sequences([in_seq], maxlen=max_length)[0]\n",
        "        out_seq= to_categorical([out_seq], num_classes= vocab_size)[0]\n",
        "\n",
        "        X1.append(photo)\n",
        "        X2.append(in_seq)\n",
        "        y.append(out_seq)\n",
        "\n",
        "    return array(X1), array(X2), array(y)\n",
        "\n",
        "\n",
        "\n"
      ],
      "execution_count": null,
      "outputs": []
    },
    {
      "cell_type": "code",
      "metadata": {
        "id": "XJ2n4MuSaQU2",
        "colab_type": "code",
        "colab": {}
      },
      "source": [
        "from numpy import array\n",
        "import tensorflow\n",
        "from pickle import load\n",
        "from keras.preprocessing.text import Tokenizer\n",
        "from keras.preprocessing.sequence import pad_sequences\n",
        "from keras.utils import to_categorical\n",
        "from keras.utils import plot_model\n",
        "from keras.models import Model\n",
        "from keras.layers import Input, Dense,LSTM,Embedding,Dropout\n",
        "from keras.layers.merge import add\n",
        "from keras.callbacks import ModelCheckpoint\n",
        "from keras.models import load_model\n",
        "from numpy import argmax\n",
        "from nltk.translate.bleu_score import corpus_bleu\n"
      ],
      "execution_count": null,
      "outputs": []
    },
    {
      "cell_type": "code",
      "metadata": {
        "id": "bWwxyaLCaYfc",
        "colab_type": "code",
        "colab": {}
      },
      "source": [
        "def define_model(vocab_size,max_length):\n",
        "  inputs1=Input(shape=(4096,))\n",
        "  fe1=Dropout(0.5)(inputs1)\n",
        "  fe2=Dense(256, activation='relu')(fe1)\n",
        "  #sequence model#\n",
        "  inputs2=Input(shape=(max_length,))\n",
        "  se1=Embedding(vocab_size, 256, mask_zero=True)(inputs2)\n",
        "  se2=Dropout(0.5)(se1)\n",
        "  se3=LSTM(256)(se2)\n",
        "\n",
        "  #decodel model#\n",
        "  decoder1=add([fe2,se3])\n",
        "  decoder2=Dense(256, activation='relu')(decoder1)\n",
        "  outputs=Dense(vocab_size, activation='softmax')(decoder2)\n",
        "\n",
        "  model=Model(inputs=[inputs1,inputs2], outputs=outputs)\n",
        "  model.compile(loss='categorical_crossentropy', optimizer='adam')\n",
        "  print(model.summary())\n",
        "  return model\n",
        "  "
      ],
      "execution_count": null,
      "outputs": []
    },
    {
      "cell_type": "code",
      "metadata": {
        "id": "-h_bEVCyajuD",
        "colab_type": "code",
        "colab": {}
      },
      "source": [
        "def data_generator(descriptions, photos, tokenizer, max_length):\n",
        "  while 1:\n",
        "    for key, desc_list in descriptions.items():\n",
        "      photo=photos[key][0]\n",
        "      in_img, in_seq, out_word=create_sequences(tokenizer, max_length, desc_list, photo)\n",
        "      yield [[in_img, in_seq], out_word]\n",
        "      "
      ],
      "execution_count": null,
      "outputs": []
    },
    {
      "cell_type": "code",
      "metadata": {
        "id": "YPhwV8xqamHU",
        "colab_type": "code",
        "colab": {}
      },
      "source": [
        "filename='/content/drive/My Drive/Flickr_Data/Flickr_TextData/Flickr_8k.trainImages.txt'\n",
        "train=load_set(filename)\n",
        "print('dataset %d'% len(train))\n",
        "train_descriptions=load_clean_descriptions('/content/drive/My Drive/Flickr_Data/descriptions.txt', train)\n",
        "print('descriptions :train=%d' % len(train_descriptions))\n",
        "train_features=load_photo_features('/content/drive/My Drive/Flickr_Data/features.pkl', train)\n",
        "print('photos :train=%d'  % len(train_features))\n",
        "tokenizer=create_tokenizer(train_descriptions)\n",
        "vocab_size=len(tokenizer.word_index)+ 1\n",
        "print('vocabulary size : %d' % vocab_size)\n",
        "max_length=max_length(train_descriptions)\n",
        "print('desriptions length: %d' % max_length)\n"
      ],
      "execution_count": null,
      "outputs": []
    },
    {
      "cell_type": "code",
      "metadata": {
        "id": "PIra4eHKao4Z",
        "colab_type": "code",
        "colab": {}
      },
      "source": [
        "model=define_model(vocab_size,max_length)\n",
        "epochs=10\n",
        "steps=len(train_descriptions)\n",
        "for i in range(epochs):\n",
        "  generator=data_generator(train_descriptions,train_features,tokenizer,max_length)\n",
        "  model.fit_generator(generator,epochs=1, steps_per_epoch=steps, verbose=1)\n",
        "  model.save('model_'+ str(i)+'.h5')"
      ],
      "execution_count": null,
      "outputs": []
    },
    {
      "cell_type": "code",
      "metadata": {
        "id": "GqD56gIieK5F",
        "colab_type": "code",
        "colab": {}
      },
      "source": [
        "def word_for_id(integer,tokenizer):\n",
        "  for word,index in tokenizer.word_index.items():\n",
        "    if index==integer:\n",
        "      return word\n",
        "  return None\n",
        "\n",
        "def generate_desc(model,tokenizer, photo, max_length):\n",
        "  in_text='starseq'\n",
        "  for i in range(max_length):\n",
        "    sequence=tokenizer.texts_to_sequences([in_text])[0]\n",
        "    sequence= pad_sequences([sequence], maxlen=max_length)\n",
        "    yhat=model.predict([photo,sequence], verbose=0)\n",
        "    yhat=argmax(yhat)\n",
        "    word=word_for_id(yhat,tokenizer)\n",
        "    if word is None:\n",
        "      break\n",
        "    in_text+= ' ' + word\n",
        "    if word=='endseq':\n",
        "      break\n",
        "  return in_text\n"
      ],
      "execution_count": null,
      "outputs": []
    },
    {
      "cell_type": "code",
      "metadata": {
        "id": "JL-7EUOucDl8",
        "colab_type": "code",
        "colab": {}
      },
      "source": [
        "def evaluate_model(model, descriptions, photos, tokenizer,max_length):\n",
        "  actual,predicted=list(),list()\n",
        "  for key, desc_list in descriptions.items():\n",
        "    yhat=generate_desc(model, tokenizer, photos[key], max_length)\n",
        "    references=[d.split() for d in desc_list]\n",
        "    actual.append(references)\n",
        "    predicted.append(yhat.split())\n",
        "  print('BLEU -1: %f' % corpus_bleu(actual,predicted, weights=(1.0,0,0,0)))\n",
        "  print('BLEU -2: %f' % corpus_bleu(actual,predicted, weights=(0.5,0.5,0,0)))\n",
        "  print('BLEU -3: %f' % corpus_bleu(actual,predicted, weights=(0.3,0.3,0.3,0)))\n",
        "  print('BLEU -4: %f' % corpus_bleu(actual,predicted, weights=(0.25,0.25,0.25,0.25)))\n",
        "\n",
        "\n"
      ],
      "execution_count": null,
      "outputs": []
    },
    {
      "cell_type": "code",
      "metadata": {
        "id": "UK5n6kQgcGR5",
        "colab_type": "code",
        "colab": {}
      },
      "source": [
        "filename='/content/drive/My Drive/Flickr_Data/Flickr_TextData/Flickr_8k.testImages.txt'\n",
        "test=load_set(filename)\n",
        "print('Dataset: %d' % len(test))\n",
        "\n",
        "test_descriptions=load_clean_descriptions('/content/drive/My Drive/Flickr_Data/descriptions.txt', test)\n",
        "print('descriptions: test=%d' % len(test_descriptions))\n",
        "\n",
        "test_features=load_photo_features('/content/drive/My Drive/Flickr_Data/features.pkl', test)\n",
        "print('photos: test=%d' % len(test_features))\n"
      ],
      "execution_count": null,
      "outputs": []
    },
    {
      "cell_type": "code",
      "metadata": {
        "id": "SDn8-A47cIxn",
        "colab_type": "code",
        "colab": {}
      },
      "source": [
        "filename='model_9.h5'\n",
        "model=load_model(filename)\n",
        "evaluate_model(model, test_descriptions, test_features, tokenizer, max_length)"
      ],
      "execution_count": null,
      "outputs": []
    },
    {
      "cell_type": "code",
      "metadata": {
        "id": "gObIQbobcLbW",
        "colab_type": "code",
        "colab": {}
      },
      "source": [
        "photo=extract_features('/content/drive/My Drive/Flickr_Data/Flicker8k_Dataset/3286822339_5535af6b93.jpg')\n",
        "descriptions=generate_desc(model, tokenizer, photo, max_length)\n",
        "print(descriptions)"
      ],
      "execution_count": null,
      "outputs": []
    },
    {
      "cell_type": "code",
      "metadata": {
        "id": "560RIu6ocNgc",
        "colab_type": "code",
        "colab": {}
      },
      "source": [
        "\n",
        "\n",
        "def extract_features(filename):\n",
        "  model=VGG16()\n",
        "  model.layers.pop()\n",
        "  model=Model(inputs=model.inputs, outputs=model.layers[-1].output)\n",
        "  image=load_img(filename, target_size=(224,224))\n",
        "  image=img_to_array(image)\n",
        "  image=image.reshape((1,image.shape[0], image.shape[1], image.shape[2]))\n",
        "  image=preprocess_input(image)\n",
        "  features= model.predict(image,verbose=0)\n",
        "  return features\n",
        "  print(model.summary())\n",
        "  \n",
        "max_length=34"
      ],
      "execution_count": null,
      "outputs": []
    }
  ]
}